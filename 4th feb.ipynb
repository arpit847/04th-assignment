{
 "cells": [
  {
   "cell_type": "code",
   "execution_count": 22,
   "id": "165a35ec-8aac-42a0-8319-bf0fe63372ea",
   "metadata": {
    "tags": []
   },
   "outputs": [
    {
     "data": {
      "text/plain": [
       "[('Virat Kohli', 24936),\n",
       " ('Jack Kallis', 25534),\n",
       " ('Ricky Ponting', 27483),\n",
       " ('Sachin Tendulkar', 34357)]"
      ]
     },
     "execution_count": 22,
     "metadata": {},
     "output_type": "execute_result"
    }
   ],
   "source": [
    "a=[('Sachin Tendulkar', 34357), ('Ricky Ponting', 27483), ('Jack Kallis', 25534), ('Virat Kohli', 24936)]\n",
    "sorted(a,key=lambda x:x[1])"
   ]
  },
  {
   "cell_type": "code",
   "execution_count": null,
   "id": "083db754-1df4-423d-a5aa-145c3a87fdeb",
   "metadata": {},
   "outputs": [],
   "source": [
    "sorted(a,key=lambda x:x[1])"
   ]
  },
  {
   "cell_type": "code",
   "execution_count": 2,
   "id": "6cdc3638-e24b-4b7f-81d2-c6b41611f1af",
   "metadata": {},
   "outputs": [
    {
     "data": {
      "text/plain": [
       "[1, 4, 9, 16, 25, 36, 49, 64, 81, 100]"
      ]
     },
     "execution_count": 2,
     "metadata": {},
     "output_type": "execute_result"
    }
   ],
   "source": [
    "l=[1, 2, 3, 4, 5, 6, 7, 8, 9, 10]\n",
    "list(map(lambda x:x**2,l))"
   ]
  },
  {
   "cell_type": "code",
   "execution_count": 8,
   "id": "173e0ecc-c069-49b5-93e2-1d74fac56686",
   "metadata": {},
   "outputs": [
    {
     "data": {
      "text/plain": [
       "('1', '2', '3', '4', '5', '6', '7', '8', '9', '10')"
      ]
     },
     "execution_count": 8,
     "metadata": {},
     "output_type": "execute_result"
    }
   ],
   "source": [
    "l1=[1, 2, 3, 4, 5, 6, 7, 8, 9, 10]\n",
    "tuple(map(lambda x:str(x),l1))\n"
   ]
  },
  {
   "cell_type": "code",
   "execution_count": 11,
   "id": "eb94471f-576a-4aed-a618-a0df5b83f2a3",
   "metadata": {},
   "outputs": [
    {
     "data": {
      "text/plain": [
       "15511210043330985984000000"
      ]
     },
     "execution_count": 11,
     "metadata": {},
     "output_type": "execute_result"
    }
   ],
   "source": [
    "from functools import reduce\n",
    "numbers = list(range(1, 26))\n",
    "reduce(lambda x,y:x*y,numbers)"
   ]
  },
  {
   "cell_type": "code",
   "execution_count": 12,
   "id": "667bbda1-27eb-47cc-99d3-e8bb8850389d",
   "metadata": {},
   "outputs": [
    {
     "data": {
      "text/plain": [
       "[6, 60, 90, 120]"
      ]
     },
     "execution_count": 12,
     "metadata": {},
     "output_type": "execute_result"
    }
   ],
   "source": [
    "l2=[2, 3, 6, 9, 27, 60, 90, 120, 55, 46]\n",
    "list(filter(lambda x:x%2==0 and x % 3 == 0, l2))\n"
   ]
  },
  {
   "cell_type": "code",
   "execution_count": 17,
   "id": "fa3a3850-6a46-4c46-b700-36c3764a9125",
   "metadata": {},
   "outputs": [
    {
     "name": "stdout",
     "output_type": "stream",
     "text": [
      "['php', 'aba', 'radar', 'level']\n"
     ]
    }
   ],
   "source": [
    "l3=['python', 'php', 'aba', 'radar', 'level']\n",
    "p = list(filter(lambda x:x==x[::-1], l3))\n",
    "print(p)"
   ]
  },
  {
   "cell_type": "markdown",
   "id": "977fd1e1-26eb-4945-bbd5-760c798f948d",
   "metadata": {},
   "source": [
    "palindromes==a word is equal to its reverse"
   ]
  }
 ],
 "metadata": {
  "kernelspec": {
   "display_name": "Python 3 (ipykernel)",
   "language": "python",
   "name": "python3"
  },
  "language_info": {
   "codemirror_mode": {
    "name": "ipython",
    "version": 3
   },
   "file_extension": ".py",
   "mimetype": "text/x-python",
   "name": "python",
   "nbconvert_exporter": "python",
   "pygments_lexer": "ipython3",
   "version": "3.10.8"
  }
 },
 "nbformat": 4,
 "nbformat_minor": 5
}
